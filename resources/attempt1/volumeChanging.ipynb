{
  "nbformat": 4,
  "nbformat_minor": 0,
  "metadata": {
    "colab": {
      "name": "Music.ipynb",
      "provenance": [],
      "toc_visible": true
    },
    "kernelspec": {
      "name": "python3",
      "display_name": "Python 3"
    },
    "language_info": {
      "name": "python"
    }
  },
  "cells": [
    {
      "cell_type": "code",
      "metadata": {
        "id": "GED1b6tbKaf4",
        "colab": {
          "base_uri": "https://localhost:8080/"
        },
        "outputId": "47a8cf75-6756-41f7-bfcc-8506637f3750"
      },
      "source": [
        "#This is for increasing or decreasing volume by some db\n",
        "!pip install pydub\n",
        "from pydub import AudioSegment\n",
        "from pydub.playback import play\n",
        "\n",
        "song = AudioSegment.from_mp3(\"Sanskriti_dance_audio_final.mp3\")\n",
        "\n",
        "#Can be used to filter low and high frequencies\n",
        "#new = song.low_pass_filter(1000)\n",
        "#new1 = new.high_pass_filter(1000)\n",
        "\n",
        "\n",
        "# boost volume by 6dB\n",
        "louder_song = song + 6\n",
        "\n",
        "# reduce volume by 3dB\n",
        "quieter_song = song - 3\n",
        "\n",
        "#Play song\n",
        "play(louder_song)\n",
        "play(quieter_song)\n",
        "\n",
        "#save louder song \n",
        "louder_song.export(\"louder_song.mp3\", format='mp3')"
      ],
      "execution_count": null,
      "outputs": [
        {
          "output_type": "stream",
          "name": "stdout",
          "text": [
            "Collecting pydub\n",
            "  Downloading pydub-0.25.1-py2.py3-none-any.whl (32 kB)\n",
            "Installing collected packages: pydub\n",
            "Successfully installed pydub-0.25.1\n"
          ]
        },
        {
          "output_type": "execute_result",
          "data": {
            "text/plain": [
              "<_io.BufferedRandom name='louder_song.mp3'>"
            ]
          },
          "metadata": {},
          "execution_count": 1
        }
      ]
    },
    {
      "cell_type": "code",
      "metadata": {
        "id": "g11L0YKcTDVL",
        "colab": {
          "base_uri": "https://localhost:8080/"
        },
        "outputId": "c1af9e48-4792-4e6c-90c2-af33b09568fd"
      },
      "source": [
        "\"\"\"rms is a measure of average amplitude, which pydub provides as audio_segment.rms and also provides a convenience method that provides \n",
        "this value converted to dBFS (audio_segment.dBFS)\n",
        "If you want a group of audio files to be the same average amplitude, basically you choose an average amplitude \n",
        "(in dBFS, -20 in the example below), and adjust as needed:\"\"\"\n",
        "\n",
        "from pydub import AudioSegment\n",
        "\n",
        "def match_target_amplitude(sound, target_dBFS):\n",
        "    change_in_dBFS = target_dBFS - sound.dBFS\n",
        "    return sound.apply_gain(change_in_dBFS)\n",
        "\n",
        "sound = AudioSegment.from_file(\"Sanskriti_dance_audio_final.mp3\")\n",
        "normalized_sound = match_target_amplitude(sound, -20.0)\n",
        "normalized_sound.export(\"Modified_song.mp3\",format = 'mp3')"
      ],
      "execution_count": null,
      "outputs": [
        {
          "output_type": "execute_result",
          "data": {
            "text/plain": [
              "<_io.BufferedRandom name='Modified_song.mp3'>"
            ]
          },
          "metadata": {},
          "execution_count": 4
        }
      ]
    }
  ]
}