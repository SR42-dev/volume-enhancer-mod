{
 "cells": [
  {
   "cell_type": "code",
   "execution_count": 10,
   "id": "0c36710b",
   "metadata": {},
   "outputs": [
    {
     "name": "stdout",
     "output_type": "stream",
     "text": [
      "Requirement already satisfied: librosa in c:\\users\\dell\\anaconda3\\lib\\site-packages (0.8.1)\n",
      "Requirement already satisfied: numpy>=1.15.0 in c:\\users\\dell\\anaconda3\\lib\\site-packages (from librosa) (1.20.1)\n",
      "Requirement already satisfied: resampy>=0.2.2 in c:\\users\\dell\\anaconda3\\lib\\site-packages (from librosa) (0.2.2)\n",
      "Requirement already satisfied: soundfile>=0.10.2 in c:\\users\\dell\\anaconda3\\lib\\site-packages (from librosa) (0.10.3.post1)\n",
      "Requirement already satisfied: scikit-learn!=0.19.0,>=0.14.0 in c:\\users\\dell\\anaconda3\\lib\\site-packages (from librosa) (0.24.1)\n",
      "Requirement already satisfied: audioread>=2.0.0 in c:\\users\\dell\\anaconda3\\lib\\site-packages (from librosa) (2.1.9)\n",
      "Requirement already satisfied: packaging>=20.0 in c:\\users\\dell\\anaconda3\\lib\\site-packages (from librosa) (20.9)\n",
      "Requirement already satisfied: decorator>=3.0.0 in c:\\users\\dell\\anaconda3\\lib\\site-packages (from librosa) (5.0.6)\n",
      "Requirement already satisfied: numba>=0.43.0 in c:\\users\\dell\\anaconda3\\lib\\site-packages (from librosa) (0.53.1)\n",
      "Requirement already satisfied: joblib>=0.14 in c:\\users\\dell\\anaconda3\\lib\\site-packages (from librosa) (1.0.1)\n",
      "Requirement already satisfied: pooch>=1.0 in c:\\users\\dell\\anaconda3\\lib\\site-packages (from librosa) (1.5.1)\n",
      "Requirement already satisfied: scipy>=1.0.0 in c:\\users\\dell\\anaconda3\\lib\\site-packages (from librosa) (1.6.2)\n",
      "Requirement already satisfied: llvmlite<0.37,>=0.36.0rc1 in c:\\users\\dell\\anaconda3\\lib\\site-packages (from numba>=0.43.0->librosa) (0.36.0)\n",
      "Requirement already satisfied: setuptools in c:\\users\\dell\\anaconda3\\lib\\site-packages (from numba>=0.43.0->librosa) (52.0.0.post20210125)\n",
      "Requirement already satisfied: pyparsing>=2.0.2 in c:\\users\\dell\\anaconda3\\lib\\site-packages (from packaging>=20.0->librosa) (2.4.7)\n",
      "Requirement already satisfied: requests in c:\\users\\dell\\anaconda3\\lib\\site-packages (from pooch>=1.0->librosa) (2.25.1)\n",
      "Requirement already satisfied: appdirs in c:\\users\\dell\\anaconda3\\lib\\site-packages (from pooch>=1.0->librosa) (1.4.4)\n",
      "Requirement already satisfied: six>=1.3 in c:\\users\\dell\\anaconda3\\lib\\site-packages (from resampy>=0.2.2->librosa) (1.15.0)\n",
      "Requirement already satisfied: threadpoolctl>=2.0.0 in c:\\users\\dell\\anaconda3\\lib\\site-packages (from scikit-learn!=0.19.0,>=0.14.0->librosa) (2.1.0)\n",
      "Requirement already satisfied: cffi>=1.0 in c:\\users\\dell\\anaconda3\\lib\\site-packages (from soundfile>=0.10.2->librosa) (1.14.5)\n",
      "Requirement already satisfied: pycparser in c:\\users\\dell\\anaconda3\\lib\\site-packages (from cffi>=1.0->soundfile>=0.10.2->librosa) (2.20)\n",
      "Requirement already satisfied: chardet<5,>=3.0.2 in c:\\users\\dell\\anaconda3\\lib\\site-packages (from requests->pooch>=1.0->librosa) (4.0.0)\n",
      "Requirement already satisfied: certifi>=2017.4.17 in c:\\users\\dell\\anaconda3\\lib\\site-packages (from requests->pooch>=1.0->librosa) (2020.12.5)\n",
      "Requirement already satisfied: urllib3<1.27,>=1.21.1 in c:\\users\\dell\\anaconda3\\lib\\site-packages (from requests->pooch>=1.0->librosa) (1.26.4)\n",
      "Requirement already satisfied: idna<3,>=2.5 in c:\\users\\dell\\anaconda3\\lib\\site-packages (from requests->pooch>=1.0->librosa) (2.10)\n"
     ]
    }
   ],
   "source": [
    "!pip install librosa\n",
    "\n",
    "import librosa\n",
    "import sklearn\n",
    "\n",
    "%matplotlib inline\n",
    "import matplotlib.pyplot as plt\n",
    "import librosa.display\n",
    "\n",
    "import numpy as np\n",
    "import IPython.display as ipd\n",
    "import soundfile as sf"
   ]
  },
  {
   "cell_type": "code",
   "execution_count": 16,
   "id": "79aeebb6",
   "metadata": {},
   "outputs": [
    {
     "data": {
      "text/plain": [
       "[<matplotlib.lines.Line2D at 0x1adc65282e0>]"
      ]
     },
     "execution_count": 16,
     "metadata": {},
     "output_type": "execute_result"
    },
    {
     "data": {
      "image/png": "[encoded data removed]",
      "text/plain": [
       "<Figure size 432x288 with 1 Axes>"
      ]
     },
     "metadata": {
      "needs_background": "light"
     },
     "output_type": "display_data"
    }
   ],
   "source": [
    "#min = minimum value for each row of the vector signal\n",
    "#max = maximum value for each row of the vector signal\n",
    "def normalize(x, axis=0):\n",
    "    return sklearn.preprocessing.minmax_scale(x, axis=axis)\n",
    "\n",
    "sr = 25 # sample rate\n",
    "T = 5.0    # seconds\n",
    "t = np.linspace(0, T, int(T*sr), endpoint=False) # time variable\n",
    "x = 0.5*np.sin(2*np.pi*220*t)# pure sine wave at 220 Hz\n",
    "\n",
    "#playing generated audio\n",
    "ipd.Audio(x, rate=sr) # load a NumPy array\n",
    "\n",
    "sf.write('generated.wav', x, sr, 'PCM_24')\n",
    "\n",
    "#Plotting the Spectral Centroid along the waveform\n",
    "librosa.display.waveplot(x, sr=sr, alpha=0.4)\n",
    "plt.plot(t, normalize(x), color='r')"
   ]
  },
  {
   "cell_type": "code",
   "execution_count": null,
   "id": "b6f3ae58",
   "metadata": {},
   "outputs": [],
   "source": []
  }
 ],
 "metadata": {
  "kernelspec": {
   "display_name": "Python 3",
   "language": "python",
   "name": "python3"
  },
  "language_info": {
   "codemirror_mode": {
    "name": "ipython",
    "version": 3
   },
   "file_extension": ".py",
   "mimetype": "text/x-python",
   "name": "python",
   "nbconvert_exporter": "python",
   "pygments_lexer": "ipython3",
   "version": "3.8.8"
  }
 },
 "nbformat": 4,
 "nbformat_minor": 5
}
